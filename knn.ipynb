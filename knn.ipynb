{
 "cells": [
  {
   "cell_type": "code",
   "execution_count": 1,
   "metadata": {},
   "outputs": [],
   "source": [
    "import pandas as pd\n",
    "import numpy as np\n",
    "import sklearn\n",
    "from sklearn.utils import shuffle\n",
    "from sklearn.neighbors import KNeighborsClassifier\n",
    "from sklearn import linear_model,preprocessing"
   ]
  },
  {
   "cell_type": "code",
   "execution_count": 37,
   "metadata": {},
   "outputs": [
    {
     "name": "stdout",
     "output_type": "stream",
     "text": [
      "  buying  maint door persons lug_boot safety  class\n",
      "0  vhigh  vhigh    2       2    small    low  unacc\n",
      "1  vhigh  vhigh    2       2    small    med  unacc\n",
      "2  vhigh  vhigh    2       2    small   high  unacc\n",
      "3  vhigh  vhigh    2       2      med    low  unacc\n",
      "4  vhigh  vhigh    2       2      med    med  unacc\n"
     ]
    }
   ],
   "source": [
    "data=pd.read_csv(\"car.data\")\n",
    "print(data.head())"
   ]
  },
  {
   "cell_type": "code",
   "execution_count": 38,
   "metadata": {},
   "outputs": [],
   "source": [
    "le=preprocessing.LabelEncoder()"
   ]
  },
  {
   "cell_type": "code",
   "execution_count": 39,
   "metadata": {},
   "outputs": [],
   "source": [
    "buying=le.fit_transform(list(data['buying']))\n",
    "maint=le.fit_transform(list(data['maint']))\n",
    "door=le.fit_transform(list(data['door']))\n",
    "persons=le.fit_transform(list(data['persons']))\n",
    "lug_boot=le.fit_transform(list(data['lug_boot']))\n",
    "safety=le.fit_transform(list(data['safety']))\n",
    "cls=le.fit_transform(list(data['class']))"
   ]
  },
  {
   "cell_type": "code",
   "execution_count": 40,
   "metadata": {},
   "outputs": [],
   "source": [
    "predict=\"class\""
   ]
  },
  {
   "cell_type": "code",
   "execution_count": 41,
   "metadata": {},
   "outputs": [],
   "source": [
    "x=list(zip(buying,maint,door,persons,lug_boot,safety))\n",
    "y=list(cls)"
   ]
  },
  {
   "cell_type": "code",
   "execution_count": 43,
   "metadata": {},
   "outputs": [],
   "source": [
    "x_train,x_test,y_train,y_test=sklearn.model_selection.train_test_split(x,y, test_size = 0.1)"
   ]
  },
  {
   "cell_type": "code",
   "execution_count": 44,
   "metadata": {},
   "outputs": [],
   "source": [
    "model=KNeighborsClassifier(n_neighbors=9)"
   ]
  },
  {
   "cell_type": "code",
   "execution_count": 45,
   "metadata": {},
   "outputs": [
    {
     "data": {
      "text/plain": [
       "KNeighborsClassifier(algorithm='auto', leaf_size=30, metric='minkowski',\n",
       "                     metric_params=None, n_jobs=None, n_neighbors=9, p=2,\n",
       "                     weights='uniform')"
      ]
     },
     "execution_count": 45,
     "metadata": {},
     "output_type": "execute_result"
    }
   ],
   "source": [
    "model.fit(x_train,y_train)"
   ]
  },
  {
   "cell_type": "code",
   "execution_count": 46,
   "metadata": {},
   "outputs": [],
   "source": [
    "acc=model.score(x_test,y_test)"
   ]
  },
  {
   "cell_type": "code",
   "execution_count": 47,
   "metadata": {},
   "outputs": [
    {
     "data": {
      "text/plain": [
       "0.9595375722543352"
      ]
     },
     "execution_count": 47,
     "metadata": {},
     "output_type": "execute_result"
    }
   ],
   "source": [
    "acc"
   ]
  },
  {
   "cell_type": "code",
   "execution_count": 48,
   "metadata": {},
   "outputs": [],
   "source": [
    "predicted=model.predict(x_test)\n",
    "names=[\"unacc\",\"acc\",\"good\",\"vgood\"]"
   ]
  },
  {
   "cell_type": "code",
   "execution_count": 49,
   "metadata": {},
   "outputs": [
    {
     "name": "stdout",
     "output_type": "stream",
     "text": [
      "predicted:  good Data :  (0, 3, 1, 2, 0, 0) Actual :  good\n",
      "predicted:  good Data :  (3, 3, 1, 0, 0, 2) Actual :  good\n",
      "predicted:  good Data :  (3, 0, 3, 0, 1, 2) Actual :  good\n",
      "predicted:  unacc Data :  (1, 1, 0, 2, 1, 0) Actual :  acc\n",
      "predicted:  good Data :  (2, 3, 3, 2, 2, 1) Actual :  good\n",
      "predicted:  good Data :  (2, 0, 2, 2, 2, 2) Actual :  good\n",
      "predicted:  unacc Data :  (2, 0, 3, 1, 1, 2) Actual :  unacc\n",
      "predicted:  good Data :  (2, 1, 1, 0, 2, 0) Actual :  good\n",
      "predicted:  good Data :  (3, 2, 0, 1, 2, 0) Actual :  unacc\n",
      "predicted:  good Data :  (1, 3, 1, 0, 0, 0) Actual :  good\n",
      "predicted:  good Data :  (1, 1, 2, 0, 0, 1) Actual :  good\n",
      "predicted:  good Data :  (3, 0, 0, 1, 0, 2) Actual :  good\n",
      "predicted:  good Data :  (0, 1, 3, 0, 1, 1) Actual :  good\n",
      "predicted:  good Data :  (1, 0, 0, 2, 2, 2) Actual :  good\n",
      "predicted:  good Data :  (3, 1, 0, 1, 1, 1) Actual :  good\n",
      "predicted:  good Data :  (1, 3, 2, 0, 1, 0) Actual :  good\n",
      "predicted:  good Data :  (0, 3, 1, 1, 2, 0) Actual :  good\n",
      "predicted:  good Data :  (0, 2, 1, 1, 2, 2) Actual :  good\n",
      "predicted:  unacc Data :  (2, 3, 1, 2, 1, 0) Actual :  unacc\n",
      "predicted:  good Data :  (0, 1, 2, 0, 2, 0) Actual :  good\n",
      "predicted:  good Data :  (3, 0, 2, 2, 1, 1) Actual :  good\n",
      "predicted:  unacc Data :  (2, 2, 0, 1, 2, 0) Actual :  unacc\n",
      "predicted:  good Data :  (1, 1, 0, 0, 2, 0) Actual :  good\n",
      "predicted:  good Data :  (3, 3, 0, 2, 2, 2) Actual :  good\n",
      "predicted:  good Data :  (0, 1, 1, 0, 0, 1) Actual :  good\n",
      "predicted:  good Data :  (1, 1, 2, 2, 0, 1) Actual :  good\n",
      "predicted:  good Data :  (0, 3, 2, 0, 0, 0) Actual :  good\n",
      "predicted:  good Data :  (3, 0, 0, 0, 1, 0) Actual :  good\n",
      "predicted:  good Data :  (3, 1, 1, 0, 0, 2) Actual :  good\n",
      "predicted:  good Data :  (3, 0, 3, 1, 2, 0) Actual :  good\n",
      "predicted:  good Data :  (0, 1, 0, 1, 2, 1) Actual :  good\n",
      "predicted:  good Data :  (1, 3, 3, 0, 1, 1) Actual :  good\n",
      "predicted:  good Data :  (2, 2, 1, 1, 2, 1) Actual :  good\n",
      "predicted:  good Data :  (0, 3, 2, 1, 2, 1) Actual :  good\n",
      "predicted:  good Data :  (1, 3, 3, 2, 2, 1) Actual :  good\n",
      "predicted:  good Data :  (0, 2, 3, 0, 0, 0) Actual :  good\n",
      "predicted:  unacc Data :  (0, 2, 3, 2, 0, 2) Actual :  unacc\n",
      "predicted:  good Data :  (3, 1, 3, 1, 0, 0) Actual :  unacc\n",
      "predicted:  good Data :  (1, 1, 0, 0, 0, 0) Actual :  good\n",
      "predicted:  good Data :  (1, 1, 3, 0, 2, 0) Actual :  good\n",
      "predicted:  good Data :  (1, 3, 1, 2, 2, 2) Actual :  good\n",
      "predicted:  good Data :  (1, 1, 3, 1, 2, 1) Actual :  good\n",
      "predicted:  good Data :  (0, 0, 3, 2, 2, 1) Actual :  good\n",
      "predicted:  unacc Data :  (0, 0, 3, 2, 2, 0) Actual :  unacc\n",
      "predicted:  unacc Data :  (2, 0, 2, 1, 2, 0) Actual :  unacc\n",
      "predicted:  vgood Data :  (1, 2, 2, 1, 0, 0) Actual :  vgood\n",
      "predicted:  good Data :  (3, 3, 1, 0, 1, 2) Actual :  good\n",
      "predicted:  unacc Data :  (2, 0, 3, 2, 2, 0) Actual :  unacc\n",
      "predicted:  good Data :  (3, 0, 2, 1, 1, 1) Actual :  good\n",
      "predicted:  good Data :  (0, 3, 0, 1, 0, 0) Actual :  good\n",
      "predicted:  good Data :  (2, 0, 2, 2, 1, 1) Actual :  good\n",
      "predicted:  unacc Data :  (2, 0, 1, 1, 0, 0) Actual :  unacc\n",
      "predicted:  good Data :  (2, 3, 0, 2, 1, 2) Actual :  good\n",
      "predicted:  good Data :  (3, 1, 0, 2, 0, 1) Actual :  good\n",
      "predicted:  good Data :  (1, 1, 0, 2, 0, 1) Actual :  good\n",
      "predicted:  unacc Data :  (3, 2, 2, 2, 1, 0) Actual :  unacc\n",
      "predicted:  unacc Data :  (2, 2, 1, 1, 2, 2) Actual :  unacc\n",
      "predicted:  good Data :  (3, 2, 3, 2, 2, 1) Actual :  good\n",
      "predicted:  acc Data :  (2, 1, 1, 2, 0, 2) Actual :  acc\n",
      "predicted:  unacc Data :  (0, 0, 1, 2, 2, 0) Actual :  unacc\n",
      "predicted:  unacc Data :  (0, 1, 2, 2, 1, 2) Actual :  unacc\n",
      "predicted:  good Data :  (0, 2, 3, 2, 2, 1) Actual :  good\n",
      "predicted:  unacc Data :  (2, 0, 1, 1, 2, 0) Actual :  unacc\n",
      "predicted:  good Data :  (3, 3, 3, 0, 0, 0) Actual :  good\n",
      "predicted:  good Data :  (3, 1, 1, 0, 0, 1) Actual :  good\n",
      "predicted:  good Data :  (2, 2, 3, 2, 2, 1) Actual :  good\n",
      "predicted:  good Data :  (1, 0, 2, 2, 1, 1) Actual :  good\n",
      "predicted:  good Data :  (0, 1, 2, 2, 1, 1) Actual :  good\n",
      "predicted:  good Data :  (2, 3, 1, 2, 0, 1) Actual :  good\n",
      "predicted:  good Data :  (0, 0, 1, 2, 0, 1) Actual :  good\n",
      "predicted:  good Data :  (3, 0, 1, 1, 0, 1) Actual :  good\n",
      "predicted:  unacc Data :  (2, 3, 2, 2, 1, 0) Actual :  unacc\n",
      "predicted:  unacc Data :  (1, 3, 1, 1, 2, 0) Actual :  unacc\n",
      "predicted:  good Data :  (0, 3, 0, 2, 0, 1) Actual :  good\n",
      "predicted:  good Data :  (0, 0, 0, 2, 1, 2) Actual :  good\n",
      "predicted:  good Data :  (1, 2, 3, 1, 2, 1) Actual :  good\n",
      "predicted:  good Data :  (1, 0, 1, 0, 0, 0) Actual :  good\n",
      "predicted:  good Data :  (0, 3, 1, 0, 1, 1) Actual :  good\n",
      "predicted:  good Data :  (0, 0, 2, 2, 2, 1) Actual :  good\n",
      "predicted:  good Data :  (3, 3, 0, 0, 0, 1) Actual :  good\n",
      "predicted:  good Data :  (0, 3, 0, 0, 1, 0) Actual :  good\n",
      "predicted:  good Data :  (2, 1, 0, 2, 2, 2) Actual :  good\n",
      "predicted:  good Data :  (0, 2, 1, 0, 2, 0) Actual :  good\n",
      "predicted:  good Data :  (2, 1, 1, 0, 0, 0) Actual :  good\n",
      "predicted:  good Data :  (1, 2, 3, 0, 2, 2) Actual :  good\n",
      "predicted:  good Data :  (1, 0, 2, 0, 1, 0) Actual :  good\n",
      "predicted:  good Data :  (3, 0, 3, 2, 1, 2) Actual :  good\n",
      "predicted:  good Data :  (3, 3, 3, 1, 0, 2) Actual :  good\n",
      "predicted:  vgood Data :  (2, 1, 1, 2, 0, 0) Actual :  vgood\n",
      "predicted:  acc Data :  (1, 2, 3, 1, 0, 2) Actual :  acc\n",
      "predicted:  good Data :  (1, 2, 0, 0, 2, 2) Actual :  good\n",
      "predicted:  good Data :  (3, 0, 3, 1, 0, 1) Actual :  good\n",
      "predicted:  good Data :  (3, 3, 0, 2, 0, 0) Actual :  good\n",
      "predicted:  unacc Data :  (3, 1, 1, 1, 2, 0) Actual :  unacc\n",
      "predicted:  good Data :  (3, 0, 1, 1, 2, 0) Actual :  good\n",
      "predicted:  good Data :  (3, 3, 3, 2, 0, 0) Actual :  good\n",
      "predicted:  good Data :  (3, 1, 3, 0, 0, 2) Actual :  good\n",
      "predicted:  good Data :  (1, 3, 0, 0, 2, 1) Actual :  good\n",
      "predicted:  good Data :  (1, 2, 3, 0, 0, 1) Actual :  good\n",
      "predicted:  unacc Data :  (1, 1, 0, 1, 2, 2) Actual :  unacc\n",
      "predicted:  good Data :  (1, 1, 0, 2, 2, 2) Actual :  good\n",
      "predicted:  unacc Data :  (2, 1, 0, 2, 1, 2) Actual :  unacc\n",
      "predicted:  unacc Data :  (3, 2, 3, 2, 0, 2) Actual :  unacc\n",
      "predicted:  good Data :  (3, 1, 2, 2, 1, 1) Actual :  good\n",
      "predicted:  unacc Data :  (2, 2, 0, 2, 0, 2) Actual :  unacc\n",
      "predicted:  good Data :  (3, 0, 0, 0, 2, 1) Actual :  good\n",
      "predicted:  good Data :  (0, 3, 3, 1, 1, 2) Actual :  good\n",
      "predicted:  unacc Data :  (3, 2, 2, 2, 1, 2) Actual :  unacc\n",
      "predicted:  good Data :  (3, 1, 0, 0, 2, 2) Actual :  good\n",
      "predicted:  good Data :  (0, 2, 3, 0, 1, 2) Actual :  good\n",
      "predicted:  unacc Data :  (2, 2, 1, 1, 0, 2) Actual :  unacc\n",
      "predicted:  good Data :  (3, 1, 2, 0, 1, 0) Actual :  good\n",
      "predicted:  good Data :  (0, 2, 0, 0, 2, 1) Actual :  good\n",
      "predicted:  good Data :  (0, 2, 1, 0, 1, 0) Actual :  good\n",
      "predicted:  good Data :  (1, 2, 1, 1, 0, 0) Actual :  vgood\n",
      "predicted:  good Data :  (1, 2, 3, 0, 1, 2) Actual :  good\n",
      "predicted:  vgood Data :  (1, 1, 2, 1, 1, 0) Actual :  vgood\n",
      "predicted:  good Data :  (2, 1, 1, 0, 0, 1) Actual :  good\n",
      "predicted:  good Data :  (1, 2, 2, 1, 1, 1) Actual :  good\n",
      "predicted:  unacc Data :  (0, 0, 1, 2, 0, 0) Actual :  unacc\n",
      "predicted:  vgood Data :  (1, 2, 1, 2, 0, 0) Actual :  vgood\n",
      "predicted:  good Data :  (1, 1, 3, 0, 0, 2) Actual :  good\n",
      "predicted:  unacc Data :  (3, 1, 2, 1, 2, 0) Actual :  unacc\n",
      "predicted:  good Data :  (3, 2, 2, 2, 2, 2) Actual :  good\n",
      "predicted:  vgood Data :  (1, 0, 2, 2, 0, 0) Actual :  vgood\n",
      "predicted:  good Data :  (3, 0, 3, 0, 1, 0) Actual :  good\n",
      "predicted:  unacc Data :  (1, 2, 3, 2, 1, 2) Actual :  acc\n",
      "predicted:  good Data :  (2, 1, 1, 2, 1, 1) Actual :  good\n",
      "predicted:  good Data :  (3, 3, 2, 0, 2, 2) Actual :  good\n",
      "predicted:  unacc Data :  (1, 2, 0, 1, 1, 2) Actual :  unacc\n",
      "predicted:  unacc Data :  (2, 3, 2, 2, 2, 0) Actual :  unacc\n",
      "predicted:  good Data :  (1, 3, 0, 1, 2, 1) Actual :  good\n",
      "predicted:  good Data :  (1, 3, 1, 1, 2, 2) Actual :  good\n",
      "predicted:  good Data :  (2, 0, 3, 1, 2, 2) Actual :  good\n",
      "predicted:  unacc Data :  (3, 2, 3, 2, 2, 0) Actual :  unacc\n",
      "predicted:  good Data :  (2, 1, 1, 1, 0, 1) Actual :  good\n",
      "predicted:  good Data :  (1, 1, 0, 0, 2, 1) Actual :  good\n",
      "predicted:  good Data :  (2, 0, 0, 2, 1, 2) Actual :  good\n",
      "predicted:  good Data :  (3, 0, 1, 2, 0, 2) Actual :  good\n",
      "predicted:  good Data :  (3, 1, 2, 1, 1, 1) Actual :  good\n",
      "predicted:  unacc Data :  (0, 1, 1, 1, 0, 2) Actual :  unacc\n",
      "predicted:  good Data :  (3, 2, 1, 0, 0, 1) Actual :  good\n",
      "predicted:  unacc Data :  (0, 1, 3, 1, 0, 0) Actual :  unacc\n",
      "predicted:  vgood Data :  (1, 0, 3, 2, 0, 0) Actual :  vgood\n",
      "predicted:  unacc Data :  (3, 1, 3, 1, 1, 0) Actual :  unacc\n",
      "predicted:  unacc Data :  (2, 3, 3, 1, 0, 2) Actual :  unacc\n",
      "predicted:  good Data :  (3, 0, 2, 1, 1, 0) Actual :  good\n",
      "predicted:  good Data :  (3, 2, 0, 0, 2, 0) Actual :  good\n",
      "predicted:  vgood Data :  (2, 2, 0, 1, 0, 0) Actual :  vgood\n",
      "predicted:  good Data :  (0, 3, 1, 2, 0, 2) Actual :  good\n",
      "predicted:  good Data :  (3, 2, 2, 0, 1, 2) Actual :  good\n",
      "predicted:  good Data :  (0, 1, 3, 0, 2, 1) Actual :  good\n",
      "predicted:  good Data :  (2, 2, 0, 1, 2, 1) Actual :  good\n",
      "predicted:  good Data :  (3, 0, 3, 0, 0, 2) Actual :  good\n",
      "predicted:  good Data :  (1, 0, 3, 2, 1, 1) Actual :  good\n",
      "predicted:  good Data :  (3, 2, 0, 2, 2, 0) Actual :  good\n",
      "predicted:  good Data :  (3, 3, 2, 0, 1, 2) Actual :  good\n",
      "predicted:  unacc Data :  (2, 0, 3, 1, 2, 0) Actual :  unacc\n",
      "predicted:  unacc Data :  (2, 3, 2, 1, 0, 0) Actual :  unacc\n",
      "predicted:  good Data :  (2, 3, 0, 2, 0, 1) Actual :  good\n",
      "predicted:  good Data :  (3, 3, 3, 1, 2, 2) Actual :  good\n",
      "predicted:  good Data :  (3, 0, 3, 0, 2, 0) Actual :  good\n",
      "predicted:  unacc Data :  (0, 1, 2, 2, 1, 0) Actual :  unacc\n",
      "predicted:  good Data :  (0, 0, 0, 1, 2, 2) Actual :  good\n",
      "predicted:  unacc Data :  (0, 0, 2, 2, 0, 2) Actual :  unacc\n",
      "predicted:  good Data :  (2, 2, 0, 0, 0, 2) Actual :  good\n",
      "predicted:  good Data :  (0, 0, 3, 1, 1, 1) Actual :  good\n",
      "predicted:  unacc Data :  (2, 1, 0, 2, 1, 0) Actual :  acc\n",
      "predicted:  good Data :  (1, 2, 0, 0, 0, 0) Actual :  good\n",
      "predicted:  unacc Data :  (2, 1, 1, 2, 1, 2) Actual :  acc\n",
      "predicted:  good Data :  (3, 3, 1, 0, 1, 0) Actual :  good\n",
      "predicted:  good Data :  (1, 1, 0, 0, 2, 2) Actual :  good\n",
      "predicted:  good Data :  (3, 0, 2, 0, 1, 1) Actual :  good\n"
     ]
    }
   ],
   "source": [
    "for x in range(len(predicted)):\n",
    "    print(\"predicted: \",names[predicted[x]],\"Data : \",x_test[x],\"Actual : \",names[y_test[x]])"
   ]
  },
  {
   "cell_type": "code",
   "execution_count": 50,
   "metadata": {},
   "outputs": [
    {
     "name": "stdout",
     "output_type": "stream",
     "text": [
      "predicted:  2 Data :  (0, 3, 1, 2, 0, 0) Actual :  2\n",
      "predicted:  2 Data :  (3, 3, 1, 0, 0, 2) Actual :  2\n",
      "predicted:  2 Data :  (3, 0, 3, 0, 1, 2) Actual :  2\n",
      "predicted:  0 Data :  (1, 1, 0, 2, 1, 0) Actual :  1\n",
      "predicted:  2 Data :  (2, 3, 3, 2, 2, 1) Actual :  2\n",
      "predicted:  2 Data :  (2, 0, 2, 2, 2, 2) Actual :  2\n",
      "predicted:  0 Data :  (2, 0, 3, 1, 1, 2) Actual :  0\n",
      "predicted:  2 Data :  (2, 1, 1, 0, 2, 0) Actual :  2\n",
      "predicted:  2 Data :  (3, 2, 0, 1, 2, 0) Actual :  0\n",
      "predicted:  2 Data :  (1, 3, 1, 0, 0, 0) Actual :  2\n",
      "predicted:  2 Data :  (1, 1, 2, 0, 0, 1) Actual :  2\n",
      "predicted:  2 Data :  (3, 0, 0, 1, 0, 2) Actual :  2\n",
      "predicted:  2 Data :  (0, 1, 3, 0, 1, 1) Actual :  2\n",
      "predicted:  2 Data :  (1, 0, 0, 2, 2, 2) Actual :  2\n",
      "predicted:  2 Data :  (3, 1, 0, 1, 1, 1) Actual :  2\n",
      "predicted:  2 Data :  (1, 3, 2, 0, 1, 0) Actual :  2\n",
      "predicted:  2 Data :  (0, 3, 1, 1, 2, 0) Actual :  2\n",
      "predicted:  2 Data :  (0, 2, 1, 1, 2, 2) Actual :  2\n",
      "predicted:  0 Data :  (2, 3, 1, 2, 1, 0) Actual :  0\n",
      "predicted:  2 Data :  (0, 1, 2, 0, 2, 0) Actual :  2\n",
      "predicted:  2 Data :  (3, 0, 2, 2, 1, 1) Actual :  2\n",
      "predicted:  0 Data :  (2, 2, 0, 1, 2, 0) Actual :  0\n",
      "predicted:  2 Data :  (1, 1, 0, 0, 2, 0) Actual :  2\n",
      "predicted:  2 Data :  (3, 3, 0, 2, 2, 2) Actual :  2\n",
      "predicted:  2 Data :  (0, 1, 1, 0, 0, 1) Actual :  2\n",
      "predicted:  2 Data :  (1, 1, 2, 2, 0, 1) Actual :  2\n",
      "predicted:  2 Data :  (0, 3, 2, 0, 0, 0) Actual :  2\n",
      "predicted:  2 Data :  (3, 0, 0, 0, 1, 0) Actual :  2\n",
      "predicted:  2 Data :  (3, 1, 1, 0, 0, 2) Actual :  2\n",
      "predicted:  2 Data :  (3, 0, 3, 1, 2, 0) Actual :  2\n",
      "predicted:  2 Data :  (0, 1, 0, 1, 2, 1) Actual :  2\n",
      "predicted:  2 Data :  (1, 3, 3, 0, 1, 1) Actual :  2\n",
      "predicted:  2 Data :  (2, 2, 1, 1, 2, 1) Actual :  2\n",
      "predicted:  2 Data :  (0, 3, 2, 1, 2, 1) Actual :  2\n",
      "predicted:  2 Data :  (1, 3, 3, 2, 2, 1) Actual :  2\n",
      "predicted:  2 Data :  (0, 2, 3, 0, 0, 0) Actual :  2\n",
      "predicted:  0 Data :  (0, 2, 3, 2, 0, 2) Actual :  0\n",
      "predicted:  2 Data :  (3, 1, 3, 1, 0, 0) Actual :  0\n",
      "predicted:  2 Data :  (1, 1, 0, 0, 0, 0) Actual :  2\n",
      "predicted:  2 Data :  (1, 1, 3, 0, 2, 0) Actual :  2\n",
      "predicted:  2 Data :  (1, 3, 1, 2, 2, 2) Actual :  2\n",
      "predicted:  2 Data :  (1, 1, 3, 1, 2, 1) Actual :  2\n",
      "predicted:  2 Data :  (0, 0, 3, 2, 2, 1) Actual :  2\n",
      "predicted:  0 Data :  (0, 0, 3, 2, 2, 0) Actual :  0\n",
      "predicted:  0 Data :  (2, 0, 2, 1, 2, 0) Actual :  0\n",
      "predicted:  3 Data :  (1, 2, 2, 1, 0, 0) Actual :  3\n",
      "predicted:  2 Data :  (3, 3, 1, 0, 1, 2) Actual :  2\n",
      "predicted:  0 Data :  (2, 0, 3, 2, 2, 0) Actual :  0\n",
      "predicted:  2 Data :  (3, 0, 2, 1, 1, 1) Actual :  2\n",
      "predicted:  2 Data :  (0, 3, 0, 1, 0, 0) Actual :  2\n",
      "predicted:  2 Data :  (2, 0, 2, 2, 1, 1) Actual :  2\n",
      "predicted:  0 Data :  (2, 0, 1, 1, 0, 0) Actual :  0\n",
      "predicted:  2 Data :  (2, 3, 0, 2, 1, 2) Actual :  2\n",
      "predicted:  2 Data :  (3, 1, 0, 2, 0, 1) Actual :  2\n",
      "predicted:  2 Data :  (1, 1, 0, 2, 0, 1) Actual :  2\n",
      "predicted:  0 Data :  (3, 2, 2, 2, 1, 0) Actual :  0\n",
      "predicted:  0 Data :  (2, 2, 1, 1, 2, 2) Actual :  0\n",
      "predicted:  2 Data :  (3, 2, 3, 2, 2, 1) Actual :  2\n",
      "predicted:  1 Data :  (2, 1, 1, 2, 0, 2) Actual :  1\n",
      "predicted:  0 Data :  (0, 0, 1, 2, 2, 0) Actual :  0\n",
      "predicted:  0 Data :  (0, 1, 2, 2, 1, 2) Actual :  0\n",
      "predicted:  2 Data :  (0, 2, 3, 2, 2, 1) Actual :  2\n",
      "predicted:  0 Data :  (2, 0, 1, 1, 2, 0) Actual :  0\n",
      "predicted:  2 Data :  (3, 3, 3, 0, 0, 0) Actual :  2\n",
      "predicted:  2 Data :  (3, 1, 1, 0, 0, 1) Actual :  2\n",
      "predicted:  2 Data :  (2, 2, 3, 2, 2, 1) Actual :  2\n",
      "predicted:  2 Data :  (1, 0, 2, 2, 1, 1) Actual :  2\n",
      "predicted:  2 Data :  (0, 1, 2, 2, 1, 1) Actual :  2\n",
      "predicted:  2 Data :  (2, 3, 1, 2, 0, 1) Actual :  2\n",
      "predicted:  2 Data :  (0, 0, 1, 2, 0, 1) Actual :  2\n",
      "predicted:  2 Data :  (3, 0, 1, 1, 0, 1) Actual :  2\n",
      "predicted:  0 Data :  (2, 3, 2, 2, 1, 0) Actual :  0\n",
      "predicted:  0 Data :  (1, 3, 1, 1, 2, 0) Actual :  0\n",
      "predicted:  2 Data :  (0, 3, 0, 2, 0, 1) Actual :  2\n",
      "predicted:  2 Data :  (0, 0, 0, 2, 1, 2) Actual :  2\n",
      "predicted:  2 Data :  (1, 2, 3, 1, 2, 1) Actual :  2\n",
      "predicted:  2 Data :  (1, 0, 1, 0, 0, 0) Actual :  2\n",
      "predicted:  2 Data :  (0, 3, 1, 0, 1, 1) Actual :  2\n",
      "predicted:  2 Data :  (0, 0, 2, 2, 2, 1) Actual :  2\n",
      "predicted:  2 Data :  (3, 3, 0, 0, 0, 1) Actual :  2\n",
      "predicted:  2 Data :  (0, 3, 0, 0, 1, 0) Actual :  2\n",
      "predicted:  2 Data :  (2, 1, 0, 2, 2, 2) Actual :  2\n",
      "predicted:  2 Data :  (0, 2, 1, 0, 2, 0) Actual :  2\n",
      "predicted:  2 Data :  (2, 1, 1, 0, 0, 0) Actual :  2\n",
      "predicted:  2 Data :  (1, 2, 3, 0, 2, 2) Actual :  2\n",
      "predicted:  2 Data :  (1, 0, 2, 0, 1, 0) Actual :  2\n",
      "predicted:  2 Data :  (3, 0, 3, 2, 1, 2) Actual :  2\n",
      "predicted:  2 Data :  (3, 3, 3, 1, 0, 2) Actual :  2\n",
      "predicted:  3 Data :  (2, 1, 1, 2, 0, 0) Actual :  3\n",
      "predicted:  1 Data :  (1, 2, 3, 1, 0, 2) Actual :  1\n",
      "predicted:  2 Data :  (1, 2, 0, 0, 2, 2) Actual :  2\n",
      "predicted:  2 Data :  (3, 0, 3, 1, 0, 1) Actual :  2\n",
      "predicted:  2 Data :  (3, 3, 0, 2, 0, 0) Actual :  2\n",
      "predicted:  0 Data :  (3, 1, 1, 1, 2, 0) Actual :  0\n",
      "predicted:  2 Data :  (3, 0, 1, 1, 2, 0) Actual :  2\n",
      "predicted:  2 Data :  (3, 3, 3, 2, 0, 0) Actual :  2\n",
      "predicted:  2 Data :  (3, 1, 3, 0, 0, 2) Actual :  2\n",
      "predicted:  2 Data :  (1, 3, 0, 0, 2, 1) Actual :  2\n",
      "predicted:  2 Data :  (1, 2, 3, 0, 0, 1) Actual :  2\n",
      "predicted:  0 Data :  (1, 1, 0, 1, 2, 2) Actual :  0\n",
      "predicted:  2 Data :  (1, 1, 0, 2, 2, 2) Actual :  2\n",
      "predicted:  0 Data :  (2, 1, 0, 2, 1, 2) Actual :  0\n",
      "predicted:  0 Data :  (3, 2, 3, 2, 0, 2) Actual :  0\n",
      "predicted:  2 Data :  (3, 1, 2, 2, 1, 1) Actual :  2\n",
      "predicted:  0 Data :  (2, 2, 0, 2, 0, 2) Actual :  0\n",
      "predicted:  2 Data :  (3, 0, 0, 0, 2, 1) Actual :  2\n",
      "predicted:  2 Data :  (0, 3, 3, 1, 1, 2) Actual :  2\n",
      "predicted:  0 Data :  (3, 2, 2, 2, 1, 2) Actual :  0\n",
      "predicted:  2 Data :  (3, 1, 0, 0, 2, 2) Actual :  2\n",
      "predicted:  2 Data :  (0, 2, 3, 0, 1, 2) Actual :  2\n",
      "predicted:  0 Data :  (2, 2, 1, 1, 0, 2) Actual :  0\n",
      "predicted:  2 Data :  (3, 1, 2, 0, 1, 0) Actual :  2\n",
      "predicted:  2 Data :  (0, 2, 0, 0, 2, 1) Actual :  2\n",
      "predicted:  2 Data :  (0, 2, 1, 0, 1, 0) Actual :  2\n",
      "predicted:  2 Data :  (1, 2, 1, 1, 0, 0) Actual :  3\n",
      "predicted:  2 Data :  (1, 2, 3, 0, 1, 2) Actual :  2\n",
      "predicted:  3 Data :  (1, 1, 2, 1, 1, 0) Actual :  3\n",
      "predicted:  2 Data :  (2, 1, 1, 0, 0, 1) Actual :  2\n",
      "predicted:  2 Data :  (1, 2, 2, 1, 1, 1) Actual :  2\n",
      "predicted:  0 Data :  (0, 0, 1, 2, 0, 0) Actual :  0\n",
      "predicted:  3 Data :  (1, 2, 1, 2, 0, 0) Actual :  3\n",
      "predicted:  2 Data :  (1, 1, 3, 0, 0, 2) Actual :  2\n",
      "predicted:  0 Data :  (3, 1, 2, 1, 2, 0) Actual :  0\n",
      "predicted:  2 Data :  (3, 2, 2, 2, 2, 2) Actual :  2\n",
      "predicted:  3 Data :  (1, 0, 2, 2, 0, 0) Actual :  3\n",
      "predicted:  2 Data :  (3, 0, 3, 0, 1, 0) Actual :  2\n",
      "predicted:  0 Data :  (1, 2, 3, 2, 1, 2) Actual :  1\n",
      "predicted:  2 Data :  (2, 1, 1, 2, 1, 1) Actual :  2\n",
      "predicted:  2 Data :  (3, 3, 2, 0, 2, 2) Actual :  2\n",
      "predicted:  0 Data :  (1, 2, 0, 1, 1, 2) Actual :  0\n",
      "predicted:  0 Data :  (2, 3, 2, 2, 2, 0) Actual :  0\n",
      "predicted:  2 Data :  (1, 3, 0, 1, 2, 1) Actual :  2\n",
      "predicted:  2 Data :  (1, 3, 1, 1, 2, 2) Actual :  2\n",
      "predicted:  2 Data :  (2, 0, 3, 1, 2, 2) Actual :  2\n",
      "predicted:  0 Data :  (3, 2, 3, 2, 2, 0) Actual :  0\n",
      "predicted:  2 Data :  (2, 1, 1, 1, 0, 1) Actual :  2\n",
      "predicted:  2 Data :  (1, 1, 0, 0, 2, 1) Actual :  2\n",
      "predicted:  2 Data :  (2, 0, 0, 2, 1, 2) Actual :  2\n",
      "predicted:  2 Data :  (3, 0, 1, 2, 0, 2) Actual :  2\n",
      "predicted:  2 Data :  (3, 1, 2, 1, 1, 1) Actual :  2\n",
      "predicted:  0 Data :  (0, 1, 1, 1, 0, 2) Actual :  0\n",
      "predicted:  2 Data :  (3, 2, 1, 0, 0, 1) Actual :  2\n",
      "predicted:  0 Data :  (0, 1, 3, 1, 0, 0) Actual :  0\n",
      "predicted:  3 Data :  (1, 0, 3, 2, 0, 0) Actual :  3\n",
      "predicted:  0 Data :  (3, 1, 3, 1, 1, 0) Actual :  0\n",
      "predicted:  0 Data :  (2, 3, 3, 1, 0, 2) Actual :  0\n",
      "predicted:  2 Data :  (3, 0, 2, 1, 1, 0) Actual :  2\n",
      "predicted:  2 Data :  (3, 2, 0, 0, 2, 0) Actual :  2\n",
      "predicted:  3 Data :  (2, 2, 0, 1, 0, 0) Actual :  3\n",
      "predicted:  2 Data :  (0, 3, 1, 2, 0, 2) Actual :  2\n",
      "predicted:  2 Data :  (3, 2, 2, 0, 1, 2) Actual :  2\n",
      "predicted:  2 Data :  (0, 1, 3, 0, 2, 1) Actual :  2\n",
      "predicted:  2 Data :  (2, 2, 0, 1, 2, 1) Actual :  2\n",
      "predicted:  2 Data :  (3, 0, 3, 0, 0, 2) Actual :  2\n",
      "predicted:  2 Data :  (1, 0, 3, 2, 1, 1) Actual :  2\n",
      "predicted:  2 Data :  (3, 2, 0, 2, 2, 0) Actual :  2\n",
      "predicted:  2 Data :  (3, 3, 2, 0, 1, 2) Actual :  2\n",
      "predicted:  0 Data :  (2, 0, 3, 1, 2, 0) Actual :  0\n",
      "predicted:  0 Data :  (2, 3, 2, 1, 0, 0) Actual :  0\n",
      "predicted:  2 Data :  (2, 3, 0, 2, 0, 1) Actual :  2\n",
      "predicted:  2 Data :  (3, 3, 3, 1, 2, 2) Actual :  2\n",
      "predicted:  2 Data :  (3, 0, 3, 0, 2, 0) Actual :  2\n",
      "predicted:  0 Data :  (0, 1, 2, 2, 1, 0) Actual :  0\n",
      "predicted:  2 Data :  (0, 0, 0, 1, 2, 2) Actual :  2\n",
      "predicted:  0 Data :  (0, 0, 2, 2, 0, 2) Actual :  0\n",
      "predicted:  2 Data :  (2, 2, 0, 0, 0, 2) Actual :  2\n",
      "predicted:  2 Data :  (0, 0, 3, 1, 1, 1) Actual :  2\n",
      "predicted:  0 Data :  (2, 1, 0, 2, 1, 0) Actual :  1\n",
      "predicted:  2 Data :  (1, 2, 0, 0, 0, 0) Actual :  2\n",
      "predicted:  0 Data :  (2, 1, 1, 2, 1, 2) Actual :  1\n",
      "predicted:  2 Data :  (3, 3, 1, 0, 1, 0) Actual :  2\n",
      "predicted:  2 Data :  (1, 1, 0, 0, 2, 2) Actual :  2\n",
      "predicted:  2 Data :  (3, 0, 2, 0, 1, 1) Actual :  2\n"
     ]
    }
   ],
   "source": [
    "for x in range(len(predicted)):\n",
    "    print(\"predicted: \",predicted[x],\"Data : \",x_test[x],\"Actual : \",y_test[x])"
   ]
  },
  {
   "cell_type": "code",
   "execution_count": null,
   "metadata": {},
   "outputs": [],
   "source": []
  },
  {
   "cell_type": "code",
   "execution_count": 52,
   "metadata": {},
   "outputs": [
    {
     "data": {
      "text/plain": [
       "array(['unacc', 'acc', 'vgood', 'good'], dtype=object)"
      ]
     },
     "execution_count": 52,
     "metadata": {},
     "output_type": "execute_result"
    }
   ],
   "source": [
    "data['class'].unique()"
   ]
  },
  {
   "cell_type": "code",
   "execution_count": null,
   "metadata": {},
   "outputs": [],
   "source": []
  }
 ],
 "metadata": {
  "kernelspec": {
   "display_name": "Python 3",
   "language": "python",
   "name": "python3"
  },
  "language_info": {
   "codemirror_mode": {
    "name": "ipython",
    "version": 3
   },
   "file_extension": ".py",
   "mimetype": "text/x-python",
   "name": "python",
   "nbconvert_exporter": "python",
   "pygments_lexer": "ipython3",
   "version": "3.6.10"
  }
 },
 "nbformat": 4,
 "nbformat_minor": 2
}
